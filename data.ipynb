{
 "cells": [
  {
   "cell_type": "code",
   "execution_count": 1,
   "metadata": {},
   "outputs": [],
   "source": [
    "from neo4j import GraphDatabase\n",
    "import os"
   ]
  },
  {
   "cell_type": "code",
   "execution_count": 2,
   "metadata": {},
   "outputs": [],
   "source": [
    "AURA_CONNECTION_URI = os.getenv('NEO4J_URI')\n",
    "AURA_USERNAME = os.getenv('NEO4J_USER')\n",
    "AURA_PASSWORD = os.getenv('NEO4J_PASSWORD')\n",
    "\n",
    "driver = GraphDatabase.driver(\n",
    "    AURA_CONNECTION_URI,\n",
    "    auth=(AURA_USERNAME, AURA_PASSWORD)\n",
    ")"
   ]
  },
  {
   "cell_type": "code",
   "execution_count": 4,
   "metadata": {},
   "outputs": [],
   "source": [
    "import json\n",
    "\n",
    "with open('mock_data/food.json', 'r') as f:\n",
    "    foods = json.load(f)"
   ]
  },
  {
   "cell_type": "code",
   "execution_count": 12,
   "metadata": {},
   "outputs": [],
   "source": [
    "bag_of_words = {}\n",
    "simple_ingredient = {}\n",
    "\n",
    "for food, temp in foods.items():\n",
    "    ingredients = temp['Ingredient']\n",
    "    materials = [temp.split('(')[0].strip().lower() if '(' in temp else temp.strip().lower() for temp in ingredients]\n",
    "\n",
    "    if food == \"pad_thai\": continue\n",
    "    food = food.replace('_', ' ').lower()\n",
    "    simple_ingredient[food] = materials\n",
    "    \n",
    "    for material in materials:\n",
    "        if material in bag_of_words:\n",
    "            bag_of_words[material] += 1\n",
    "        else:\n",
    "            bag_of_words[material] = 1"
   ]
  },
  {
   "cell_type": "code",
   "execution_count": 13,
   "metadata": {},
   "outputs": [
    {
     "data": {
      "text/plain": [
       "{'mackerel': 1,\n",
       " 'chili': 1,\n",
       " 'garlic': 4,\n",
       " 'shallots': 2,\n",
       " 'shrimp paste': 1,\n",
       " 'lime juice': 4,\n",
       " 'vegetables': 1,\n",
       " 'rice flour': 1,\n",
       " 'coconut milk': 5,\n",
       " 'sugar': 6,\n",
       " 'salt': 2,\n",
       " 'spring onions': 2,\n",
       " 'chicken': 3,\n",
       " 'turmeric powder': 1,\n",
       " 'curry powder': 1,\n",
       " 'peanut sauce': 1,\n",
       " 'cucumber relish': 1,\n",
       " 'fish paste': 1,\n",
       " 'red curry paste': 1,\n",
       " 'kaffir lime leaves': 3,\n",
       " 'green beans': 1,\n",
       " 'egg': 3,\n",
       " 'fish sauce': 6,\n",
       " 'grilled pork': 1,\n",
       " 'chili powder': 1,\n",
       " 'roasted rice powder': 1,\n",
       " 'mint leaves': 1,\n",
       " 'cilantro': 2,\n",
       " 'wide rice noodles': 1,\n",
       " 'soy sauce': 2,\n",
       " 'chinese broccoli': 1,\n",
       " 'pork or chicken': 1,\n",
       " 'glutinous rice flour': 1,\n",
       " 'palm sugar': 3,\n",
       " 'grated coconut': 1,\n",
       " 'water': 3,\n",
       " 'soft tofu': 1,\n",
       " 'ginger': 1,\n",
       " 'massaman curry paste': 1,\n",
       " 'beef': 1,\n",
       " 'potatoes': 1,\n",
       " 'onions': 1,\n",
       " 'peanuts': 2,\n",
       " 'cashew nuts': 1,\n",
       " 'cinnamon': 1,\n",
       " 'star anise': 1,\n",
       " 'tamarind paste': 1,\n",
       " 'shrimp': 1,\n",
       " 'lemongrass': 1,\n",
       " 'galangal': 1,\n",
       " \"thai bird's eye chili\": 2,\n",
       " 'mushroom': 1,\n",
       " 'green papaya': 1,\n",
       " 'tamarind': 1,\n",
       " 'cherry tomatoes': 1,\n",
       " 'long beans': 1,\n",
       " 'jasmine rice': 1,\n",
       " 'onion': 1,\n",
       " 'chicken or shrimp': 1,\n",
       " 'lime': 1,\n",
       " 'cucumber': 1,\n",
       " 'green curry paste': 1,\n",
       " 'thai eggplant': 1,\n",
       " 'bamboo shoots': 1,\n",
       " 'basil': 1,\n",
       " 'pandan leaves': 1,\n",
       " 'agar-agar': 1}"
      ]
     },
     "execution_count": 13,
     "metadata": {},
     "output_type": "execute_result"
    }
   ],
   "source": [
    "bag_of_words"
   ]
  },
  {
   "cell_type": "code",
   "execution_count": 14,
   "metadata": {},
   "outputs": [
    {
     "data": {
      "text/plain": [
       "{'chili': ['chili powder', \"thai bird's eye chili\"],\n",
       " 'rice flour': ['glutinous rice flour'],\n",
       " 'sugar': ['palm sugar'],\n",
       " 'chicken': ['pork or chicken', 'chicken or shrimp'],\n",
       " 'egg': ['thai eggplant'],\n",
       " 'onions': ['spring onions'],\n",
       " 'shrimp': ['shrimp paste', 'chicken or shrimp'],\n",
       " 'tamarind': ['tamarind paste'],\n",
       " 'onion': ['spring onions', 'onions'],\n",
       " 'lime': ['lime juice', 'kaffir lime leaves'],\n",
       " 'cucumber': ['cucumber relish']}"
      ]
     },
     "execution_count": 14,
     "metadata": {},
     "output_type": "execute_result"
    }
   ],
   "source": [
    "similar_words = {}\n",
    "\n",
    "for words in bag_of_words.keys():\n",
    "    list_words = []\n",
    "    for temp in bag_of_words.keys():\n",
    "        if temp.lower() != words.lower() and words.lower() in temp.lower():\n",
    "            list_words.append(temp.lower())\n",
    "    \n",
    "    if len(list_words) > 0:\n",
    "        similar_words[words.lower()] = list_words\n",
    "\n",
    "similar_words"
   ]
  },
  {
   "cell_type": "code",
   "execution_count": 15,
   "metadata": {},
   "outputs": [
    {
     "name": "stderr",
     "output_type": "stream",
     "text": [
      "/tmp/ipykernel_15489/3250473487.py:14: DeprecationWarning: write_transaction has been renamed to execute_write\n",
      "  session.write_transaction(add_food_with_ingredients, food, ingredients)\n"
     ]
    }
   ],
   "source": [
    "def add_food_with_ingredients(tx, food_name, ingredients):\n",
    "    query = \"\"\"\n",
    "    CREATE (a:Food {name: $food_name})\n",
    "    WITH a\n",
    "    UNWIND $ingredients AS ingredient\n",
    "    MERGE (b:Ingredient {name: ingredient}) \n",
    "    MERGE (b)-[:RECIPE]->(a)\n",
    "    \"\"\"\n",
    "    tx.run(query, food_name=food_name, ingredients=ingredients)\n",
    "\n",
    "# Iterating through food and ingredients\n",
    "for food, ingredients in simple_ingredient.items():\n",
    "    with driver.session() as session:\n",
    "        session.write_transaction(add_food_with_ingredients, food, ingredients)"
   ]
  },
  {
   "cell_type": "code",
   "execution_count": 16,
   "metadata": {},
   "outputs": [
    {
     "name": "stderr",
     "output_type": "stream",
     "text": [
      "/tmp/ipykernel_15489/790334638.py:12: DeprecationWarning: write_transaction has been renamed to execute_write\n",
      "  session.write_transaction(add_ingredient_relations, ingredient_term, ingredient_variants)\n"
     ]
    }
   ],
   "source": [
    "def add_ingredient_relations(tx, ingredient_term, ingredient_variants):\n",
    "    query = \"\"\"\n",
    "    MATCH (a:Ingredient {name: $ingredient_term})\n",
    "    UNWIND $ingredient_variants AS variant\n",
    "    MERGE (b:Ingredient {name: variant})\n",
    "    MERGE (a)-[:SYNONYM]->(b)  // Consider changing to a more appropriate relationship type if necessary\n",
    "    \"\"\" \n",
    "    tx.run(query, ingredient_term=ingredient_term, ingredient_variants=ingredient_variants)\n",
    "\n",
    "for ingredient_term, ingredient_variants in similar_words.items():\n",
    "    with driver.session() as session:\n",
    "        session.write_transaction(add_ingredient_relations, ingredient_term, ingredient_variants)"
   ]
  },
  {
   "cell_type": "code",
   "execution_count": null,
   "metadata": {},
   "outputs": [],
   "source": [
    "driver.close()"
   ]
  },
  {
   "cell_type": "markdown",
   "metadata": {},
   "source": [
    "Mock user data for recommendation system"
   ]
  },
  {
   "cell_type": "code",
   "execution_count": 151,
   "metadata": {},
   "outputs": [],
   "source": [
    "import json\n",
    "\n",
    "N = 500\n",
    "\n",
    "users = [f\"user_{i}\" for i in range(N)]\n",
    "with open('mock_data/food.json', 'r') as f: data = json.load(f)\n",
    "foods = list(data.keys())\n",
    "\n",
    "user_to_index = {user:i for i, user in enumerate(users)}\n",
    "index_to_user = {i:user for i, user in enumerate(users)}\n",
    "\n",
    "food_to_index = {user:i for i, user in enumerate(foods)}\n",
    "index_to_food = {i:user for i, user in enumerate(foods)}"
   ]
  },
  {
   "cell_type": "code",
   "execution_count": 152,
   "metadata": {},
   "outputs": [
    {
     "data": {
      "text/plain": [
       "array([[0, 0, 0, ..., 0, 0, 0],\n",
       "       [0, 0, 0, ..., 0, 0, 0],\n",
       "       [0, 0, 0, ..., 0, 0, 0],\n",
       "       ...,\n",
       "       [0, 0, 0, ..., 0, 0, 0],\n",
       "       [0, 0, 0, ..., 0, 0, 0],\n",
       "       [0, 0, 0, ..., 0, 0, 0]], shape=(500, 15))"
      ]
     },
     "execution_count": 152,
     "metadata": {},
     "output_type": "execute_result"
    }
   ],
   "source": [
    "import numpy as np\n",
    "\n",
    "Matrix = np.zeros((N, len(foods))).astype(int)\n",
    "Matrix"
   ]
  },
  {
   "cell_type": "code",
   "execution_count": 153,
   "metadata": {},
   "outputs": [
    {
     "name": "stdout",
     "output_type": "stream",
     "text": [
      "nam_tok_moo\n",
      "pad_see_ew\n",
      "[5, 6]\n"
     ]
    }
   ],
   "source": [
    "index_not_halal = []\n",
    "for food in foods:\n",
    "    ingredients = data[food][\"Ingredient\"]\n",
    "    for ingredient in ingredients:\n",
    "        if \"pork\" in ingredient.lower():\n",
    "            print(food)\n",
    "            index_not_halal.append(food_to_index[food])\n",
    "            break\n",
    "\n",
    "print(index_not_halal)"
   ]
  },
  {
   "cell_type": "code",
   "execution_count": 161,
   "metadata": {},
   "outputs": [
    {
     "name": "stdout",
     "output_type": "stream",
     "text": [
      "Number of Islam: 97\n",
      "['user_123', 'user_201', 'user_302', 'user_392', 'user_387', 'user_35', 'user_462', 'user_487', 'user_170', 'user_148', 'user_8', 'user_112', 'user_409', 'user_485', 'user_233', 'user_358', 'user_197', 'user_331', 'user_323', 'user_405', 'user_193', 'user_153', 'user_42', 'user_384', 'user_310', 'user_126', 'user_254', 'user_106', 'user_227', 'user_220', 'user_444', 'user_44', 'user_70', 'user_333', 'user_218', 'user_69', 'user_348', 'user_419', 'user_224', 'user_102', 'user_160', 'user_475', 'user_191', 'user_427', 'user_481', 'user_6', 'user_87', 'user_24', 'user_312', 'user_389', 'user_296', 'user_114', 'user_147', 'user_452', 'user_490', 'user_105', 'user_46', 'user_195', 'user_330', 'user_23', 'user_372', 'user_288', 'user_376', 'user_207', 'user_273', 'user_289', 'user_398', 'user_455', 'user_498', 'user_278', 'user_229', 'user_143', 'user_379', 'user_423', 'user_401', 'user_202', 'user_217', 'user_360', 'user_131', 'user_316', 'user_415', 'user_352', 'user_284', 'user_238', 'user_79', 'user_183', 'user_96', 'user_22', 'user_166', 'user_75', 'user_374', 'user_294', 'user_244', 'user_380', 'user_99', 'user_496', 'user_157']\n"
     ]
    }
   ],
   "source": [
    "import random\n",
    "\n",
    "number_islam = random.randint(1, 150)\n",
    "print(f\"Number of Islam: {number_islam}\")\n",
    "\n",
    "islam_users = []\n",
    "for _ in range(number_islam):\n",
    "    while True:\n",
    "        index = random.randint(0, N - 1)\n",
    "        user = f\"user_{index}\"\n",
    "        if user not in islam_users:\n",
    "            islam_users.append(user)\n",
    "            break\n",
    "\n",
    "print(islam_users)"
   ]
  },
  {
   "cell_type": "code",
   "execution_count": 162,
   "metadata": {},
   "outputs": [
    {
     "name": "stdout",
     "output_type": "stream",
     "text": [
      "[ 0  0  0  0  0 -1 -1  0  0  0  0  0  0  0  0]\n"
     ]
    }
   ],
   "source": [
    "for user in islam_users:\n",
    "    index = user_to_index[user]\n",
    "    if user in islam_users:\n",
    "        for food in foods:\n",
    "            if food_to_index[food] in index_not_halal:\n",
    "                Matrix[index][food_to_index[food]] -= 1\n",
    "\n",
    "print(Matrix[123])"
   ]
  },
  {
   "cell_type": "code",
   "execution_count": 163,
   "metadata": {},
   "outputs": [
    {
     "data": {
      "text/plain": [
       "['fish',\n",
       " 'shellfish',\n",
       " 'chicken',\n",
       " 'soy',\n",
       " 'egg',\n",
       " 'peanut',\n",
       " 'tree_nut',\n",
       " 'coconut',\n",
       " 'wheat',\n",
       " 'dairy']"
      ]
     },
     "execution_count": 163,
     "metadata": {},
     "output_type": "execute_result"
    }
   ],
   "source": [
    "with open('mock_data/allergy.json') as f: data2 = json.load(f)\n",
    "allergies = list(data2.keys())\n",
    "allergies"
   ]
  },
  {
   "cell_type": "code",
   "execution_count": 164,
   "metadata": {},
   "outputs": [
    {
     "name": "stdout",
     "output_type": "stream",
     "text": [
      "{'fish': [0, 4, 5, 10, 11, 12, 13], 'shellfish': [2, 10], 'chicken': [2, 3, 9, 13], 'soy': [2, 6, 12], 'egg': [2, 4, 6, 12], 'peanut': [2, 9, 11], 'tree_nut': [], 'coconut': [1, 3, 9, 13, 14], 'wheat': [], 'dairy': []}\n"
     ]
    }
   ],
   "source": [
    "allergy_to_food = {allergy:[] for allergy in allergies}\n",
    "for food in foods:\n",
    "    ingredients = data[food][\"Ingredient\"]\n",
    "    for ingredient in ingredients:\n",
    "        for allergy in allergies:\n",
    "            if ingredient in data2[allergy][\"Ingredient\"]:\n",
    "                index = food_to_index[food]\n",
    "                allergy_to_food[allergy].append(index)\n",
    "\n",
    "print(allergy_to_food)"
   ]
  },
  {
   "cell_type": "code",
   "execution_count": 165,
   "metadata": {},
   "outputs": [
    {
     "name": "stdout",
     "output_type": "stream",
     "text": [
      "Number of allergies: 50\n",
      "['user_73', 'user_346', 'user_361', 'user_40', 'user_118', 'user_63', 'user_292', 'user_416', 'user_104', 'user_285', 'user_69', 'user_456', 'user_68', 'user_407', 'user_349', 'user_78', 'user_96', 'user_259', 'user_455', 'user_185', 'user_216', 'user_54', 'user_94', 'user_161', 'user_15', 'user_57', 'user_228', 'user_389', 'user_170', 'user_297', 'user_478', 'user_371', 'user_381', 'user_3', 'user_33', 'user_150', 'user_330', 'user_338', 'user_426', 'user_162', 'user_45', 'user_414', 'user_336', 'user_396', 'user_366', 'user_443', 'user_293', 'user_401', 'user_335', 'user_480']\n"
     ]
    }
   ],
   "source": [
    "number_per_allergy = 5\n",
    "total_allergies = number_per_allergy * len(allergies)\n",
    "print(f\"Number of allergies: {total_allergies}\")\n",
    "\n",
    "allergy_users = []\n",
    "for _ in range(total_allergies):\n",
    "    while True:\n",
    "        index = random.randint(0, N - 1)\n",
    "        user = f\"user_{index}\"\n",
    "        if user not in allergy_users:\n",
    "            allergy_users.append(user)\n",
    "            break\n",
    "\n",
    "print(allergy_users)"
   ]
  },
  {
   "cell_type": "code",
   "execution_count": 166,
   "metadata": {},
   "outputs": [
    {
     "name": "stdout",
     "output_type": "stream",
     "text": [
      "[-1  0  0  0 -1 -1  0  0  0  0 -1 -1 -1 -1  0]\n"
     ]
    }
   ],
   "source": [
    "group_people = [allergy_users[i:i+ number_per_allergy] for i in range(0, total_allergies, number_per_allergy)]\n",
    "for i, group in enumerate(group_people):\n",
    "    for user in group:\n",
    "        user_index = user_to_index[user]\n",
    "        for index in list(allergy_to_food.items())[i][1]:\n",
    "            Matrix[user_index][index] -= 1\n",
    "\n",
    "print(Matrix[346])"
   ]
  },
  {
   "cell_type": "code",
   "execution_count": 167,
   "metadata": {},
   "outputs": [
    {
     "name": "stdout",
     "output_type": "stream",
     "text": [
      "[ 0  8  0  9  0 -1 -1  0  0  6  5 10  3  0  0]\n",
      "[-1  6  0  0 -1 -1  2  8  4  6 -1 -1 -1 -1  0]\n"
     ]
    }
   ],
   "source": [
    "for user in users:\n",
    "    i = user_to_index[user]\n",
    "    food_list = Matrix[i]\n",
    "    for index in range(len(food_list)):\n",
    "        found = random.choice([True, False])\n",
    "        if found:\n",
    "            frequency = food_list[index]\n",
    "            random_freq = random.randint(1, 10)\n",
    "            if frequency == 0: food_list[index] = random_freq\n",
    "\n",
    "print(Matrix[123])\n",
    "print(Matrix[346])"
   ]
  },
  {
   "cell_type": "code",
   "execution_count": 168,
   "metadata": {},
   "outputs": [
    {
     "data": {
      "text/plain": [
       "array([[ 9,  4,  8, ...,  0,  2,  0],\n",
       "       [ 0,  9,  2, ...,  0,  0,  0],\n",
       "       [ 3,  2,  0, ...,  0,  1,  8],\n",
       "       ...,\n",
       "       [ 0, 10,  0, ..., 10,  0,  9],\n",
       "       [ 3,  5,  0, ...,  0,  0,  0],\n",
       "       [ 0,  0,  0, ...,  3, 10,  0]], shape=(500, 15))"
      ]
     },
     "execution_count": 168,
     "metadata": {},
     "output_type": "execute_result"
    }
   ],
   "source": [
    "Matrix"
   ]
  },
  {
   "cell_type": "code",
   "execution_count": 169,
   "metadata": {},
   "outputs": [],
   "source": [
    "np.save('mock_data/Matrix.npy', Matrix)"
   ]
  },
  {
   "cell_type": "markdown",
   "metadata": {},
   "source": [
    "Recommend system"
   ]
  },
  {
   "cell_type": "code",
   "execution_count": 221,
   "metadata": {},
   "outputs": [],
   "source": [
    "from sklearn.decomposition import TruncatedSVD\n",
    "import pandas as pd\n",
    "from transector import Transector\n",
    "import random\n",
    "\n",
    "Matrix = np.load('mock_data/Matrix.npy')\n",
    "with open('mock_data/food.json', 'r') as f: data = json.load(f)\n",
    "foods = list(data.keys())\n",
    "\n",
    "def best_restaurant(top_foods):\n",
    "    top_food_names = []\n",
    "    with open('mock_data/food.json', 'r') as f:\n",
    "        data = json.load(f)\n",
    "        for food in top_foods:\n",
    "            if food in data and \"English\" in data[food] and data[food][\"English\"]:\n",
    "                top_food_names.append(data[food][\"English\"])\n",
    "\n",
    "    with open('mock_data/resturant.json', 'r') as f:\n",
    "        data2 = json.load(f)\n",
    "\n",
    "    # Calculate restaurant scores\n",
    "    scores = {}\n",
    "    for k, v in data2.items():\n",
    "        scores[v[\"name\"]] = 0\n",
    "        for m in v[\"menu\"]:\n",
    "            dish = m[\"dish\"]\n",
    "            if dish in top_food_names:\n",
    "                scores[v[\"name\"]] += 1\n",
    "\n",
    "    # Handle cases where no matching restaurants are found\n",
    "    if not scores:\n",
    "        return {\"error\": \"No matching restaurants found\"}\n",
    "\n",
    "    best_restaurant_name = max(scores, key=scores.get)\n",
    "    best_restaurant = None\n",
    "    for k, v in data2.items():\n",
    "        if v[\"name\"] == best_restaurant_name:\n",
    "            best_restaurant = {\"name\": v[\"name\"], \"menu\": v[\"menu\"]}\n",
    "            break\n",
    "\n",
    "    return {\"best_restaurant\": best_restaurant}\n",
    "\n",
    "\n",
    "def popularity():\n",
    "    temp = [0 for _ in range(len(foods))]\n",
    "    for j in range(len(foods)):\n",
    "        for i in range(Matrix.shape[0]):\n",
    "            frequency = Matrix[i][j]\n",
    "            temp[j] += frequency\n",
    "\n",
    "    # Get the indices of the top 5 most popular foods\n",
    "    top_indices = np.argsort(temp)[-5:][::-1]\n",
    "    top_foods = [foods[i] for i in top_indices]\n",
    "    return best_restaurant(top_foods)\n",
    "\n",
    "def CF(food_name):\n",
    "    index = foods.index(food_name)\n",
    "\n",
    "    # SVD to make correlation matrix\n",
    "    SVD = TruncatedSVD(n_components= 10)\n",
    "    decomposed_matrix = SVD.fit_transform(Matrix)\n",
    "    correlation_matrix = pd.DataFrame(data= decomposed_matrix).corr()\n",
    "    \n",
    "    recommend_list = correlation_matrix[index].to_list()\n",
    "    score_dict = {foods[i]: score for i, score in enumerate(recommend_list)} \n",
    "\n",
    "    filtered_scores = {k: v for k, v in score_dict.items() if k != food_name}\n",
    "    top_foods = [k for k, v in sorted(filtered_scores.items(), key=lambda item: item[1], reverse=True)[:5]]\n",
    "    return best_restaurant(top_foods)\n",
    "\n",
    "def CB():\n",
    "    transector = Transector()\n",
    "    number = random.randint(0, 499)\n",
    "    preference = Matrix[number]\n",
    "    food_for_person = [foods[i] for i, freq in enumerate(preference) if freq > 0]\n",
    "\n",
    "    set_ingredient = set()\n",
    "    for food in food_for_person:\n",
    "        ingredients = transector.get_ingredients_for_food(food)\n",
    "        set_ingredient.update(ingredients)\n",
    "\n",
    "\n",
    "    all_food_scores = {}\n",
    "    for ingredient in set_ingredient:\n",
    "        query_foods = transector.get_foods_for_ingredient(ingredient)\n",
    "\n",
    "        for food in query_foods:\n",
    "            if food not in food_for_person:\n",
    "                food_ingredients = transector.get_ingredients_for_food(food)\n",
    "\n",
    "                # Calculate similarity score based on common ingredients\n",
    "                common_ingredients = set_ingredient.intersection(food_ingredients)\n",
    "                similarity_score = len(common_ingredients) / len(set_ingredient.union(food_ingredients))\n",
    "\n",
    "                if food in all_food_scores:\n",
    "                    all_food_scores[food] += similarity_score\n",
    "                else:\n",
    "                    all_food_scores[food] = similarity_score\n",
    "\n",
    "\n",
    "    recommended_foods = sorted(all_food_scores.items(), key=lambda x: x[1], reverse=True)\n",
    "    top_food = [food for food, score in recommended_foods[:5]]\n",
    "    transector.close()\n",
    "\n",
    "    return best_restaurant(top_food)"
   ]
  },
  {
   "cell_type": "code",
   "execution_count": 222,
   "metadata": {},
   "outputs": [
    {
     "name": "stdout",
     "output_type": "stream",
     "text": [
      "{'best_restaurant': {'name': 'Thai Royal Kitchen', 'menu': [{'dish': 'Chili Dip with Fried Mackerel', 'price': '227.50 THB'}, {'dish': 'Massaman Curry', 'price': '332.50 THB'}, {'dish': 'Stir-Fried Rice Noodles', 'price': '245.00 THB'}, {'dish': 'Grilled Chicken Skewers', 'price': '262.50 THB'}, {'dish': 'Tofu Pudding in Ginger Syrup', 'price': '192.50 THB'}]}}\n"
     ]
    }
   ],
   "source": [
    "print(popularity())"
   ]
  },
  {
   "cell_type": "code",
   "execution_count": 223,
   "metadata": {},
   "outputs": [
    {
     "name": "stdout",
     "output_type": "stream",
     "text": [
      "{'best_restaurant': {'name': 'Bangkok Flavors', 'menu': [{'dish': 'Spicy Grilled Pork Salad', 'price': '297.50 THB'}, {'dish': 'Stir-Fried Wide Rice Noodles', 'price': '245.00 THB'}, {'dish': 'Coconut Dumplings', 'price': '140.00 THB'}, {'dish': 'Chili Dip with Fried Mackerel', 'price': '210.00 THB'}, {'dish': 'Massaman Curry', 'price': '350.00 THB'}]}}\n"
     ]
    }
   ],
   "source": [
    "print(CF(food_name=\"massaman\"))"
   ]
  },
  {
   "cell_type": "code",
   "execution_count": 224,
   "metadata": {},
   "outputs": [
    {
     "name": "stdout",
     "output_type": "stream",
     "text": [
      "{'best_restaurant': {'name': 'Thai Royal Kitchen', 'menu': [{'dish': 'Chili Dip with Fried Mackerel', 'price': '227.50 THB'}, {'dish': 'Massaman Curry', 'price': '332.50 THB'}, {'dish': 'Stir-Fried Rice Noodles', 'price': '245.00 THB'}, {'dish': 'Grilled Chicken Skewers', 'price': '262.50 THB'}, {'dish': 'Tofu Pudding in Ginger Syrup', 'price': '192.50 THB'}]}}\n"
     ]
    }
   ],
   "source": [
    "print(CB())"
   ]
  }
 ],
 "metadata": {
  "kernelspec": {
   "display_name": ".venv",
   "language": "python",
   "name": "python3"
  },
  "language_info": {
   "codemirror_mode": {
    "name": "ipython",
    "version": 3
   },
   "file_extension": ".py",
   "mimetype": "text/x-python",
   "name": "python",
   "nbconvert_exporter": "python",
   "pygments_lexer": "ipython3",
   "version": "3.12.8"
  }
 },
 "nbformat": 4,
 "nbformat_minor": 2
}
