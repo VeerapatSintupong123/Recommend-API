{
 "cells": [
  {
   "cell_type": "code",
   "execution_count": 1,
   "metadata": {},
   "outputs": [],
   "source": [
    "from neo4j import GraphDatabase\n",
    "import os"
   ]
  },
  {
   "cell_type": "code",
   "execution_count": 2,
   "metadata": {},
   "outputs": [],
   "source": [
    "AURA_CONNECTION_URI = os.getenv('NEO4J_URI')\n",
    "AURA_USERNAME = os.getenv('NEO4J_USER')\n",
    "AURA_PASSWORD = os.getenv('NEO4J_PASSWORD')\n",
    "\n",
    "driver = GraphDatabase.driver(\n",
    "    AURA_CONNECTION_URI,\n",
    "    auth=(AURA_USERNAME, AURA_PASSWORD)\n",
    ")"
   ]
  },
  {
   "cell_type": "code",
   "execution_count": 4,
   "metadata": {},
   "outputs": [],
   "source": [
    "import json\n",
    "\n",
    "with open('mock_data/food.json', 'r') as f:\n",
    "    foods = json.load(f)"
   ]
  },
  {
   "cell_type": "code",
   "execution_count": 12,
   "metadata": {},
   "outputs": [],
   "source": [
    "bag_of_words = {}\n",
    "simple_ingredient = {}\n",
    "\n",
    "for food, temp in foods.items():\n",
    "    ingredients = temp['Ingredient']\n",
    "    materials = [temp.split('(')[0].strip().lower() if '(' in temp else temp.strip().lower() for temp in ingredients]\n",
    "\n",
    "    if food == \"pad_thai\": continue\n",
    "    food = food.replace('_', ' ').lower()\n",
    "    simple_ingredient[food] = materials\n",
    "    \n",
    "    for material in materials:\n",
    "        if material in bag_of_words:\n",
    "            bag_of_words[material] += 1\n",
    "        else:\n",
    "            bag_of_words[material] = 1"
   ]
  },
  {
   "cell_type": "code",
   "execution_count": 13,
   "metadata": {},
   "outputs": [
    {
     "data": {
      "text/plain": [
       "{'mackerel': 1,\n",
       " 'chili': 1,\n",
       " 'garlic': 4,\n",
       " 'shallots': 2,\n",
       " 'shrimp paste': 1,\n",
       " 'lime juice': 4,\n",
       " 'vegetables': 1,\n",
       " 'rice flour': 1,\n",
       " 'coconut milk': 5,\n",
       " 'sugar': 6,\n",
       " 'salt': 2,\n",
       " 'spring onions': 2,\n",
       " 'chicken': 3,\n",
       " 'turmeric powder': 1,\n",
       " 'curry powder': 1,\n",
       " 'peanut sauce': 1,\n",
       " 'cucumber relish': 1,\n",
       " 'fish paste': 1,\n",
       " 'red curry paste': 1,\n",
       " 'kaffir lime leaves': 3,\n",
       " 'green beans': 1,\n",
       " 'egg': 3,\n",
       " 'fish sauce': 6,\n",
       " 'grilled pork': 1,\n",
       " 'chili powder': 1,\n",
       " 'roasted rice powder': 1,\n",
       " 'mint leaves': 1,\n",
       " 'cilantro': 2,\n",
       " 'wide rice noodles': 1,\n",
       " 'soy sauce': 2,\n",
       " 'chinese broccoli': 1,\n",
       " 'pork or chicken': 1,\n",
       " 'glutinous rice flour': 1,\n",
       " 'palm sugar': 3,\n",
       " 'grated coconut': 1,\n",
       " 'water': 3,\n",
       " 'soft tofu': 1,\n",
       " 'ginger': 1,\n",
       " 'massaman curry paste': 1,\n",
       " 'beef': 1,\n",
       " 'potatoes': 1,\n",
       " 'onions': 1,\n",
       " 'peanuts': 2,\n",
       " 'cashew nuts': 1,\n",
       " 'cinnamon': 1,\n",
       " 'star anise': 1,\n",
       " 'tamarind paste': 1,\n",
       " 'shrimp': 1,\n",
       " 'lemongrass': 1,\n",
       " 'galangal': 1,\n",
       " \"thai bird's eye chili\": 2,\n",
       " 'mushroom': 1,\n",
       " 'green papaya': 1,\n",
       " 'tamarind': 1,\n",
       " 'cherry tomatoes': 1,\n",
       " 'long beans': 1,\n",
       " 'jasmine rice': 1,\n",
       " 'onion': 1,\n",
       " 'chicken or shrimp': 1,\n",
       " 'lime': 1,\n",
       " 'cucumber': 1,\n",
       " 'green curry paste': 1,\n",
       " 'thai eggplant': 1,\n",
       " 'bamboo shoots': 1,\n",
       " 'basil': 1,\n",
       " 'pandan leaves': 1,\n",
       " 'agar-agar': 1}"
      ]
     },
     "execution_count": 13,
     "metadata": {},
     "output_type": "execute_result"
    }
   ],
   "source": [
    "bag_of_words"
   ]
  },
  {
   "cell_type": "code",
   "execution_count": 14,
   "metadata": {},
   "outputs": [
    {
     "data": {
      "text/plain": [
       "{'chili': ['chili powder', \"thai bird's eye chili\"],\n",
       " 'rice flour': ['glutinous rice flour'],\n",
       " 'sugar': ['palm sugar'],\n",
       " 'chicken': ['pork or chicken', 'chicken or shrimp'],\n",
       " 'egg': ['thai eggplant'],\n",
       " 'onions': ['spring onions'],\n",
       " 'shrimp': ['shrimp paste', 'chicken or shrimp'],\n",
       " 'tamarind': ['tamarind paste'],\n",
       " 'onion': ['spring onions', 'onions'],\n",
       " 'lime': ['lime juice', 'kaffir lime leaves'],\n",
       " 'cucumber': ['cucumber relish']}"
      ]
     },
     "execution_count": 14,
     "metadata": {},
     "output_type": "execute_result"
    }
   ],
   "source": [
    "similar_words = {}\n",
    "\n",
    "for words in bag_of_words.keys():\n",
    "    list_words = []\n",
    "    for temp in bag_of_words.keys():\n",
    "        if temp.lower() != words.lower() and words.lower() in temp.lower():\n",
    "            list_words.append(temp.lower())\n",
    "    \n",
    "    if len(list_words) > 0:\n",
    "        similar_words[words.lower()] = list_words\n",
    "\n",
    "similar_words"
   ]
  },
  {
   "cell_type": "code",
   "execution_count": 15,
   "metadata": {},
   "outputs": [
    {
     "name": "stderr",
     "output_type": "stream",
     "text": [
      "/tmp/ipykernel_15489/3250473487.py:14: DeprecationWarning: write_transaction has been renamed to execute_write\n",
      "  session.write_transaction(add_food_with_ingredients, food, ingredients)\n"
     ]
    }
   ],
   "source": [
    "def add_food_with_ingredients(tx, food_name, ingredients):\n",
    "    query = \"\"\"\n",
    "    CREATE (a:Food {name: $food_name})\n",
    "    WITH a\n",
    "    UNWIND $ingredients AS ingredient\n",
    "    MERGE (b:Ingredient {name: ingredient}) \n",
    "    MERGE (b)-[:RECIPE]->(a)\n",
    "    \"\"\"\n",
    "    tx.run(query, food_name=food_name, ingredients=ingredients)\n",
    "\n",
    "# Iterating through food and ingredients\n",
    "for food, ingredients in simple_ingredient.items():\n",
    "    with driver.session() as session:\n",
    "        session.write_transaction(add_food_with_ingredients, food, ingredients)"
   ]
  },
  {
   "cell_type": "code",
   "execution_count": 16,
   "metadata": {},
   "outputs": [
    {
     "name": "stderr",
     "output_type": "stream",
     "text": [
      "/tmp/ipykernel_15489/790334638.py:12: DeprecationWarning: write_transaction has been renamed to execute_write\n",
      "  session.write_transaction(add_ingredient_relations, ingredient_term, ingredient_variants)\n"
     ]
    }
   ],
   "source": [
    "def add_ingredient_relations(tx, ingredient_term, ingredient_variants):\n",
    "    query = \"\"\"\n",
    "    MATCH (a:Ingredient {name: $ingredient_term})\n",
    "    UNWIND $ingredient_variants AS variant\n",
    "    MERGE (b:Ingredient {name: variant})\n",
    "    MERGE (a)-[:SYNONYM]->(b)  // Consider changing to a more appropriate relationship type if necessary\n",
    "    \"\"\" \n",
    "    tx.run(query, ingredient_term=ingredient_term, ingredient_variants=ingredient_variants)\n",
    "\n",
    "for ingredient_term, ingredient_variants in similar_words.items():\n",
    "    with driver.session() as session:\n",
    "        session.write_transaction(add_ingredient_relations, ingredient_term, ingredient_variants)"
   ]
  },
  {
   "cell_type": "code",
   "execution_count": null,
   "metadata": {},
   "outputs": [],
   "source": [
    "driver.close()"
   ]
  }
 ],
 "metadata": {
  "kernelspec": {
   "display_name": ".venv",
   "language": "python",
   "name": "python3"
  },
  "language_info": {
   "codemirror_mode": {
    "name": "ipython",
    "version": 3
   },
   "file_extension": ".py",
   "mimetype": "text/x-python",
   "name": "python",
   "nbconvert_exporter": "python",
   "pygments_lexer": "ipython3",
   "version": "3.12.8"
  }
 },
 "nbformat": 4,
 "nbformat_minor": 2
}
