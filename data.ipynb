{
 "cells": [
  {
   "cell_type": "code",
   "execution_count": 1,
   "metadata": {},
   "outputs": [],
   "source": [
    "from neo4j import GraphDatabase\n",
    "import os"
   ]
  },
  {
   "cell_type": "code",
   "execution_count": 2,
   "metadata": {},
   "outputs": [],
   "source": [
    "AURA_CONNECTION_URI = os.getenv('NEO4J_URI')\n",
    "AURA_USERNAME = os.getenv('NEO4J_USER')\n",
    "AURA_PASSWORD = os.getenv('NEO4J_PASSWORD')\n",
    "\n",
    "driver = GraphDatabase.driver(\n",
    "    AURA_CONNECTION_URI,\n",
    "    auth=(AURA_USERNAME, AURA_PASSWORD)\n",
    ")"
   ]
  },
  {
   "cell_type": "code",
   "execution_count": 4,
   "metadata": {},
   "outputs": [],
   "source": [
    "import json\n",
    "\n",
    "with open('mock_data/food.json', 'r') as f:\n",
    "    foods = json.load(f)"
   ]
  },
  {
   "cell_type": "code",
   "execution_count": 12,
   "metadata": {},
   "outputs": [],
   "source": [
    "bag_of_words = {}\n",
    "simple_ingredient = {}\n",
    "\n",
    "for food, temp in foods.items():\n",
    "    ingredients = temp['Ingredient']\n",
    "    materials = [temp.split('(')[0].strip().lower() if '(' in temp else temp.strip().lower() for temp in ingredients]\n",
    "\n",
    "    if food == \"pad_thai\": continue\n",
    "    food = food.replace('_', ' ').lower()\n",
    "    simple_ingredient[food] = materials\n",
    "    \n",
    "    for material in materials:\n",
    "        if material in bag_of_words:\n",
    "            bag_of_words[material] += 1\n",
    "        else:\n",
    "            bag_of_words[material] = 1"
   ]
  },
  {
   "cell_type": "code",
   "execution_count": 13,
   "metadata": {},
   "outputs": [
    {
     "data": {
      "text/plain": [
       "{'mackerel': 1,\n",
       " 'chili': 1,\n",
       " 'garlic': 4,\n",
       " 'shallots': 2,\n",
       " 'shrimp paste': 1,\n",
       " 'lime juice': 4,\n",
       " 'vegetables': 1,\n",
       " 'rice flour': 1,\n",
       " 'coconut milk': 5,\n",
       " 'sugar': 6,\n",
       " 'salt': 2,\n",
       " 'spring onions': 2,\n",
       " 'chicken': 3,\n",
       " 'turmeric powder': 1,\n",
       " 'curry powder': 1,\n",
       " 'peanut sauce': 1,\n",
       " 'cucumber relish': 1,\n",
       " 'fish paste': 1,\n",
       " 'red curry paste': 1,\n",
       " 'kaffir lime leaves': 3,\n",
       " 'green beans': 1,\n",
       " 'egg': 3,\n",
       " 'fish sauce': 6,\n",
       " 'grilled pork': 1,\n",
       " 'chili powder': 1,\n",
       " 'roasted rice powder': 1,\n",
       " 'mint leaves': 1,\n",
       " 'cilantro': 2,\n",
       " 'wide rice noodles': 1,\n",
       " 'soy sauce': 2,\n",
       " 'chinese broccoli': 1,\n",
       " 'pork or chicken': 1,\n",
       " 'glutinous rice flour': 1,\n",
       " 'palm sugar': 3,\n",
       " 'grated coconut': 1,\n",
       " 'water': 3,\n",
       " 'soft tofu': 1,\n",
       " 'ginger': 1,\n",
       " 'massaman curry paste': 1,\n",
       " 'beef': 1,\n",
       " 'potatoes': 1,\n",
       " 'onions': 1,\n",
       " 'peanuts': 2,\n",
       " 'cashew nuts': 1,\n",
       " 'cinnamon': 1,\n",
       " 'star anise': 1,\n",
       " 'tamarind paste': 1,\n",
       " 'shrimp': 1,\n",
       " 'lemongrass': 1,\n",
       " 'galangal': 1,\n",
       " \"thai bird's eye chili\": 2,\n",
       " 'mushroom': 1,\n",
       " 'green papaya': 1,\n",
       " 'tamarind': 1,\n",
       " 'cherry tomatoes': 1,\n",
       " 'long beans': 1,\n",
       " 'jasmine rice': 1,\n",
       " 'onion': 1,\n",
       " 'chicken or shrimp': 1,\n",
       " 'lime': 1,\n",
       " 'cucumber': 1,\n",
       " 'green curry paste': 1,\n",
       " 'thai eggplant': 1,\n",
       " 'bamboo shoots': 1,\n",
       " 'basil': 1,\n",
       " 'pandan leaves': 1,\n",
       " 'agar-agar': 1}"
      ]
     },
     "execution_count": 13,
     "metadata": {},
     "output_type": "execute_result"
    }
   ],
   "source": [
    "bag_of_words"
   ]
  },
  {
   "cell_type": "code",
   "execution_count": 14,
   "metadata": {},
   "outputs": [
    {
     "data": {
      "text/plain": [
       "{'chili': ['chili powder', \"thai bird's eye chili\"],\n",
       " 'rice flour': ['glutinous rice flour'],\n",
       " 'sugar': ['palm sugar'],\n",
       " 'chicken': ['pork or chicken', 'chicken or shrimp'],\n",
       " 'egg': ['thai eggplant'],\n",
       " 'onions': ['spring onions'],\n",
       " 'shrimp': ['shrimp paste', 'chicken or shrimp'],\n",
       " 'tamarind': ['tamarind paste'],\n",
       " 'onion': ['spring onions', 'onions'],\n",
       " 'lime': ['lime juice', 'kaffir lime leaves'],\n",
       " 'cucumber': ['cucumber relish']}"
      ]
     },
     "execution_count": 14,
     "metadata": {},
     "output_type": "execute_result"
    }
   ],
   "source": [
    "similar_words = {}\n",
    "\n",
    "for words in bag_of_words.keys():\n",
    "    list_words = []\n",
    "    for temp in bag_of_words.keys():\n",
    "        if temp.lower() != words.lower() and words.lower() in temp.lower():\n",
    "            list_words.append(temp.lower())\n",
    "    \n",
    "    if len(list_words) > 0:\n",
    "        similar_words[words.lower()] = list_words\n",
    "\n",
    "similar_words"
   ]
  },
  {
   "cell_type": "code",
   "execution_count": 15,
   "metadata": {},
   "outputs": [
    {
     "name": "stderr",
     "output_type": "stream",
     "text": [
      "/tmp/ipykernel_15489/3250473487.py:14: DeprecationWarning: write_transaction has been renamed to execute_write\n",
      "  session.write_transaction(add_food_with_ingredients, food, ingredients)\n"
     ]
    }
   ],
   "source": [
    "def add_food_with_ingredients(tx, food_name, ingredients):\n",
    "    query = \"\"\"\n",
    "    CREATE (a:Food {name: $food_name})\n",
    "    WITH a\n",
    "    UNWIND $ingredients AS ingredient\n",
    "    MERGE (b:Ingredient {name: ingredient}) \n",
    "    MERGE (b)-[:RECIPE]->(a)\n",
    "    \"\"\"\n",
    "    tx.run(query, food_name=food_name, ingredients=ingredients)\n",
    "\n",
    "# Iterating through food and ingredients\n",
    "for food, ingredients in simple_ingredient.items():\n",
    "    with driver.session() as session:\n",
    "        session.write_transaction(add_food_with_ingredients, food, ingredients)"
   ]
  },
  {
   "cell_type": "code",
   "execution_count": 16,
   "metadata": {},
   "outputs": [
    {
     "name": "stderr",
     "output_type": "stream",
     "text": [
      "/tmp/ipykernel_15489/790334638.py:12: DeprecationWarning: write_transaction has been renamed to execute_write\n",
      "  session.write_transaction(add_ingredient_relations, ingredient_term, ingredient_variants)\n"
     ]
    }
   ],
   "source": [
    "def add_ingredient_relations(tx, ingredient_term, ingredient_variants):\n",
    "    query = \"\"\"\n",
    "    MATCH (a:Ingredient {name: $ingredient_term})\n",
    "    UNWIND $ingredient_variants AS variant\n",
    "    MERGE (b:Ingredient {name: variant})\n",
    "    MERGE (a)-[:SYNONYM]->(b)  // Consider changing to a more appropriate relationship type if necessary\n",
    "    \"\"\" \n",
    "    tx.run(query, ingredient_term=ingredient_term, ingredient_variants=ingredient_variants)\n",
    "\n",
    "for ingredient_term, ingredient_variants in similar_words.items():\n",
    "    with driver.session() as session:\n",
    "        session.write_transaction(add_ingredient_relations, ingredient_term, ingredient_variants)"
   ]
  },
  {
   "cell_type": "code",
   "execution_count": null,
   "metadata": {},
   "outputs": [],
   "source": [
    "driver.close()"
   ]
  },
  {
   "cell_type": "markdown",
   "metadata": {},
   "source": [
    "Mock user data for recommendation system"
   ]
  },
  {
   "cell_type": "code",
   "execution_count": 69,
   "metadata": {},
   "outputs": [],
   "source": [
    "import json\n",
    "\n",
    "N = 500\n",
    "\n",
    "users = [f\"user_{i}\" for i in range(N)]\n",
    "with open('mock_data/food.json', 'r') as f: data = json.load(f)\n",
    "foods = list(data.keys())\n",
    "\n",
    "user_to_index = {user:i for i, user in enumerate(users)}\n",
    "index_to_user = {i:user for i, user in enumerate(users)}\n",
    "\n",
    "food_to_index = {user:i for i, user in enumerate(foods)}\n",
    "index_to_food = {i:user for i, user in enumerate(foods)}"
   ]
  },
  {
   "cell_type": "code",
   "execution_count": 70,
   "metadata": {},
   "outputs": [
    {
     "data": {
      "text/plain": [
       "array([[0, 0, 0, ..., 0, 0, 0],\n",
       "       [0, 0, 0, ..., 0, 0, 0],\n",
       "       [0, 0, 0, ..., 0, 0, 0],\n",
       "       ...,\n",
       "       [0, 0, 0, ..., 0, 0, 0],\n",
       "       [0, 0, 0, ..., 0, 0, 0],\n",
       "       [0, 0, 0, ..., 0, 0, 0]], shape=(500, 15))"
      ]
     },
     "execution_count": 70,
     "metadata": {},
     "output_type": "execute_result"
    }
   ],
   "source": [
    "import numpy as np\n",
    "\n",
    "Matrix = np.zeros((N, len(foods))).astype(int)\n",
    "Matrix"
   ]
  },
  {
   "cell_type": "code",
   "execution_count": 71,
   "metadata": {},
   "outputs": [
    {
     "name": "stdout",
     "output_type": "stream",
     "text": [
      "nam_tok_moo\n",
      "pad_see_ew\n",
      "[5, 6]\n"
     ]
    }
   ],
   "source": [
    "index_not_halal = []\n",
    "for food in foods:\n",
    "    ingredients = data[food][\"Ingredient\"]\n",
    "    for ingredient in ingredients:\n",
    "        if \"pork\" in ingredient.lower():\n",
    "            print(food)\n",
    "            index_not_halal.append(food_to_index[food])\n",
    "            break\n",
    "\n",
    "print(index_not_halal)"
   ]
  },
  {
   "cell_type": "code",
   "execution_count": 72,
   "metadata": {},
   "outputs": [
    {
     "name": "stdout",
     "output_type": "stream",
     "text": [
      "Number of Islam: 95\n",
      "['user_7', 'user_266', 'user_367', 'user_359', 'user_392', 'user_274', 'user_93', 'user_42', 'user_95', 'user_452', 'user_241', 'user_492', 'user_120', 'user_251', 'user_8', 'user_198', 'user_254', 'user_304', 'user_178', 'user_396', 'user_155', 'user_451', 'user_141', 'user_447', 'user_320', 'user_62', 'user_41', 'user_187', 'user_482', 'user_6', 'user_206', 'user_3', 'user_489', 'user_184', 'user_34', 'user_466', 'user_448', 'user_199', 'user_55', 'user_368', 'user_470', 'user_160', 'user_419', 'user_342', 'user_67', 'user_149', 'user_436', 'user_350', 'user_174', 'user_262', 'user_301', 'user_303', 'user_356', 'user_424', 'user_355', 'user_12', 'user_256', 'user_399', 'user_428', 'user_372', 'user_473', 'user_36', 'user_5', 'user_455', 'user_91', 'user_106', 'user_491', 'user_398', 'user_129', 'user_314', 'user_203', 'user_278', 'user_463', 'user_330', 'user_37', 'user_208', 'user_479', 'user_28', 'user_253', 'user_336', 'user_172', 'user_113', 'user_300', 'user_131', 'user_444', 'user_461', 'user_224', 'user_464', 'user_148', 'user_64', 'user_236', 'user_321', 'user_32', 'user_422', 'user_385']\n"
     ]
    }
   ],
   "source": [
    "import random\n",
    "\n",
    "number_islam = random.randint(1, 150)\n",
    "print(f\"Number of Islam: {number_islam}\")\n",
    "\n",
    "islam_users = []\n",
    "for _ in range(number_islam):\n",
    "    while True:\n",
    "        index = random.randint(0, N - 1)\n",
    "        user = f\"user_{index}\"\n",
    "        if user not in islam_users:\n",
    "            islam_users.append(user)\n",
    "            break\n",
    "\n",
    "print(islam_users)"
   ]
  },
  {
   "cell_type": "code",
   "execution_count": 73,
   "metadata": {},
   "outputs": [
    {
     "name": "stdout",
     "output_type": "stream",
     "text": [
      "[ 0  0  0  0  0 -1 -1  0  0  0  0  0  0  0  0]\n"
     ]
    }
   ],
   "source": [
    "for user in islam_users:\n",
    "    index = user_to_index[user]\n",
    "    if user in islam_users:\n",
    "        for food in foods:\n",
    "            if food_to_index[food] in index_not_halal:\n",
    "                Matrix[index][food_to_index[food]] -= 1\n",
    "\n",
    "print(Matrix[7])"
   ]
  },
  {
   "cell_type": "code",
   "execution_count": 74,
   "metadata": {},
   "outputs": [
    {
     "name": "stdout",
     "output_type": "stream",
     "text": [
      "[ 0  7  3  0  0 -1 -1  0  0  9  0  7  0  5  5]\n"
     ]
    }
   ],
   "source": [
    "for user in users:\n",
    "    i = user_to_index[user]\n",
    "    food_list = Matrix[i]\n",
    "    for index in range(len(food_list)):\n",
    "        found = random.choice([True, False])\n",
    "        if found:\n",
    "            frequency = food_list[index]\n",
    "            random_freq = random.randint(1, 10)\n",
    "            if frequency == 0: food_list[index] = random_freq\n",
    "\n",
    "print(Matrix[7])"
   ]
  },
  {
   "cell_type": "code",
   "execution_count": 75,
   "metadata": {},
   "outputs": [
    {
     "data": {
      "text/plain": [
       "array([[ 0,  1,  2, ...,  0,  0,  5],\n",
       "       [ 0,  9,  3, ...,  6,  8,  9],\n",
       "       [ 0,  4,  0, ...,  0, 10,  0],\n",
       "       ...,\n",
       "       [ 0,  6,  0, ...,  0,  0,  3],\n",
       "       [ 2,  0,  3, ...,  0,  5,  0],\n",
       "       [10,  0,  0, ...,  1,  1,  0]], shape=(500, 15))"
      ]
     },
     "execution_count": 75,
     "metadata": {},
     "output_type": "execute_result"
    }
   ],
   "source": [
    "Matrix"
   ]
  },
  {
   "cell_type": "code",
   "execution_count": 91,
   "metadata": {},
   "outputs": [],
   "source": [
    "import numpy as np\n",
    "import json\n",
    "\n",
    "class FoodManager:\n",
    "    def __init__(self, users, foods, islam_users, matrix):\n",
    "        self.users = users\n",
    "        self.foods = foods\n",
    "        self.islam_users = set(islam_users)\n",
    "        self.matrix = np.array(matrix, dtype=int)\n",
    "\n",
    "    def add_or_update_user(self, user, food_preferences):\n",
    "        if user not in self.users:\n",
    "            self.users.append(user)\n",
    "            new_row = np.zeros(len(self.foods), dtype=int)\n",
    "            self.matrix = np.vstack([self.matrix, new_row])\n",
    "\n",
    "        user_index = self.users.index(user)\n",
    "        for food, preference in food_preferences.items():\n",
    "            if food in self.foods:\n",
    "                food_index = self.foods.index(food)\n",
    "                self.matrix[user_index, food_index] = preference\n",
    "\n",
    "    def save_to_json(self, filename):\n",
    "        data = {\n",
    "            \"users\": self.users,\n",
    "            \"foods\": self.foods,\n",
    "            \"islam_users\": list(self.islam_users),\n",
    "            \"matrix\": [[int(value) for value in row] for row in self.matrix]\n",
    "        }\n",
    "        with open(filename, \"w\") as file:\n",
    "            json.dump(data, file)\n",
    "\n",
    "    @classmethod\n",
    "    def load_from_json(cls, filename):\n",
    "        with open(filename, \"r\") as file:\n",
    "            data = json.load(file)\n",
    "        return cls(data[\"users\"], data[\"foods\"], data[\"islam_users\"], data[\"matrix\"])\n",
    "\n",
    "    def get_user_preferences(self, user):\n",
    "        print(user)\n",
    "        if user not in self.users:\n",
    "            return None\n",
    "        user_index = self.users.index(user)\n",
    "        return {self.foods[i]: self.matrix[user_index, i] for i in range(len(self.foods))}\n",
    "\n",
    "    def is_islam_compliant(self, user):\n",
    "        return user in self.islam_users if user in self.users else None\n"
   ]
  },
  {
   "cell_type": "code",
   "execution_count": 97,
   "metadata": {},
   "outputs": [],
   "source": [
    "manager = FoodManager(users= users, foods= foods, islam_users= islam_users, matrix= Matrix)\n",
    "manager.save_to_json(\"mock_data/matrix.json\")"
   ]
  },
  {
   "cell_type": "code",
   "execution_count": 98,
   "metadata": {},
   "outputs": [
    {
     "name": "stdout",
     "output_type": "stream",
     "text": [
      "user_0\n"
     ]
    },
    {
     "data": {
      "text/plain": [
       "{'nam_prik_pla_too': np.int64(0),\n",
       " 'khanom_krok': np.int64(1),\n",
       " 'pad_thai': np.int64(2),\n",
       " 'satay_gai': np.int64(5),\n",
       " 'tod_mun_pla': np.int64(0),\n",
       " 'nam_tok_moo': np.int64(0),\n",
       " 'pad_see_ew': np.int64(4),\n",
       " 'khanom_tom': np.int64(0),\n",
       " 'tao_huay': np.int64(2),\n",
       " 'massaman': np.int64(4),\n",
       " 'tom_yum_goong': np.int64(0),\n",
       " 'som_tum': np.int64(0),\n",
       " 'khao_pad': np.int64(0),\n",
       " 'gaeng_keow_wan_gai': np.int64(0),\n",
       " 'bai_toey': np.int64(5)}"
      ]
     },
     "execution_count": 98,
     "metadata": {},
     "output_type": "execute_result"
    }
   ],
   "source": [
    "manager.get_user_preferences(\"user_0\")"
   ]
  }
 ],
 "metadata": {
  "kernelspec": {
   "display_name": ".venv",
   "language": "python",
   "name": "python3"
  },
  "language_info": {
   "codemirror_mode": {
    "name": "ipython",
    "version": 3
   },
   "file_extension": ".py",
   "mimetype": "text/x-python",
   "name": "python",
   "nbconvert_exporter": "python",
   "pygments_lexer": "ipython3",
   "version": "3.12.8"
  }
 },
 "nbformat": 4,
 "nbformat_minor": 2
}
